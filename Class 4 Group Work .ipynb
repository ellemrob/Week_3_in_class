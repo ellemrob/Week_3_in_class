{
 "cells": [
  {
   "cell_type": "code",
   "execution_count": 22,
   "id": "1a406ee8",
   "metadata": {},
   "outputs": [
    {
     "name": "stdout",
     "output_type": "stream",
     "text": [
      "a: 0\n",
      "b: 4\n",
      "Sum of a and b:  4\n",
      "Difference of a and b: -4\n",
      "Product of a and b: zero\n"
     ]
    }
   ],
   "source": [
    "a=int(input(\"a: \"))\n",
    "b=int(input(\"b: \"))\n",
    "function(a,b)\n",
    "\n",
    "def function(a,b):\n",
    "    if a+b==0:\n",
    "        print(\"Sum of a and b: zero\")\n",
    "    else:\n",
    "        print(\"Sum of a and b: \",a+b)\n",
    "    if a-b==0:\n",
    "        print(\"Difference of a and b: zero\")\n",
    "    else:\n",
    "        print(\"Difference of a and b:\",a-b)\n",
    "    if a*b==0:\n",
    "        print(\"Product of a and b: zero\")\n",
    "    else:\n",
    "        print(\"Product of a and b: \",a*b)\n"
   ]
  },
  {
   "cell_type": "code",
   "execution_count": null,
   "id": "6e9b1dae",
   "metadata": {},
   "outputs": [],
   "source": []
  }
 ],
 "metadata": {
  "kernelspec": {
   "display_name": "Python 3 (ipykernel)",
   "language": "python",
   "name": "python3"
  },
  "language_info": {
   "codemirror_mode": {
    "name": "ipython",
    "version": 3
   },
   "file_extension": ".py",
   "mimetype": "text/x-python",
   "name": "python",
   "nbconvert_exporter": "python",
   "pygments_lexer": "ipython3",
   "version": "3.9.7"
  }
 },
 "nbformat": 4,
 "nbformat_minor": 5
}
